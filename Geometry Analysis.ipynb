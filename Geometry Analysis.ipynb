{
 "cells": [
  {
   "cell_type": "markdown",
   "metadata": {},
   "source": [
    "# Geomtery Analysis Project"
   ]
  },
  {
   "cell_type": "code",
   "execution_count": 1,
   "metadata": {},
   "outputs": [],
   "source": [
    "import os\n",
    "import numpy"
   ]
  },
  {
   "cell_type": "code",
   "execution_count": 2,
   "metadata": {},
   "outputs": [
    {
     "data": {
      "text/plain": [
       "'C:\\\\Users\\\\train721\\\\Desktop\\\\data'"
      ]
     },
     "execution_count": 2,
     "metadata": {},
     "output_type": "execute_result"
    }
   ],
   "source": [
    "pwd"
   ]
  },
  {
   "cell_type": "code",
   "execution_count": 17,
   "metadata": {
    "collapsed": true
   },
   "outputs": [
    {
     "name": "stdout",
     "output_type": "stream",
     "text": [
      "['O' 'H1' 'H2']\n",
      "[[ 0.       -0.007156  0.965491]\n",
      " [-0.        0.001486 -0.003471]\n",
      " [ 0.        0.931026  1.207929]]\n",
      "3\n"
     ]
    }
   ],
   "source": [
    "file_location = os.path.join('water.xyz')\n",
    "xyz_file = numpy.genfromtxt(fname=file_location, skip_header=2, dtype='unicode')\n",
    "symbols = xyz_file[:,0]\n",
    "coordinates = xyz_file[:,1:]\n",
    "print(symbols)\n",
    "coordinates = coordinates.astype(numpy.float)\n",
    "print(coordinates)\n",
    "num_atoms = len(symbols)\n",
    "print(num_atoms)"
   ]
  },
  {
   "cell_type": "code",
   "execution_count": 19,
   "metadata": {},
   "outputs": [
    {
     "name": "stdout",
     "output_type": "stream",
     "text": [
      "O to O : 0.0\n",
      "O to H1 : 0.9690005374652793\n",
      "O to H2 : 0.9690003348647513\n",
      "H1 to O : 0.9690005374652793\n",
      "H1 to H1 : 0.0\n",
      "H1 to H2 : 1.52693633514957\n",
      "H2 to O : 0.9690003348647513\n",
      "H2 to H1 : 1.52693633514957\n",
      "H2 to H2 : 0.0\n"
     ]
    }
   ],
   "source": [
    "for num1 in range(0,num_atoms):\n",
    "    for num2 in range(0, num_atoms):\n",
    "        x_distance = coordinates[num1,0] - coordinates[num2,0]\n",
    "        y_distance = coordinates[num1,1] - coordinates[num2,1]\n",
    "        z_distance = coordinates[num1,2] - coordinates[num2,2]\n",
    "        distance_12 = numpy.sqrt(x_distance ** 2 + y_distance ** 2 + z_distance ** 2)\n",
    "        print(F'{symbols[num1]} to {symbols[num2]} : {distance_12}')                                              "
   ]
  },
  {
   "cell_type": "code",
   "execution_count": 33,
   "metadata": {
    "scrolled": true
   },
   "outputs": [
    {
     "name": "stdout",
     "output_type": "stream",
     "text": [
      "H1 to O : 0.9690005374652793\n",
      "H2 to O : 0.9690003348647513\n",
      "H2 to H1 : 1.52693633514957\n"
     ]
    }
   ],
   "source": [
    "for num1 in range(0,num_atoms):\n",
    "    for num2 in range(0, num_atoms):\n",
    "        if num1>num2:\n",
    "            x_distance = coordinates[num1,0] - coordinates[num2,0]\n",
    "            y_distance = coordinates[num1,1] - coordinates[num2,1]\n",
    "            z_distance = coordinates[num1,2] - coordinates[num2,2]\n",
    "            distance_12 = numpy.sqrt(x_distance ** 2 + y_distance ** 2 + z_distance ** 2)\n",
    "            print(F'{symbols[num1]} to {symbols[num2]} : {distance_12}')                                              "
   ]
  },
  {
   "cell_type": "code",
   "execution_count": 46,
   "metadata": {},
   "outputs": [],
   "source": [
    "#def function_name(parameters):\n",
    "#    *****code goes******\n",
    "#    return value_to_return"
   ]
  },
  {
   "cell_type": "code",
   "execution_count": 70,
   "metadata": {},
   "outputs": [],
   "source": [
    "def calculate_distance(coords1, coords2):\n",
    "    \"\"\"\n",
    "    \n",
    "    This function is something because you didn't make it in time.\n",
    "    This function has two arguments, the coordinates of two atoms. \n",
    "    It returns the distance between the atoms.\n",
    "    \n",
    "    \"\"\"\n",
    "    x_distance = coordinates[0] - coordinates2[0]\n",
    "    y_distance = coordinates[1] - coordinates2[1]\n",
    "    z_distance = coordinates[2] - coordinates2[2]\n",
    "    distance_12 = numpy.sqrt(x_distance ** 2 + y_distance ** 2 + z_distance ** 2)\n",
    "    return distance_12"
   ]
  },
  {
   "cell_type": "code",
   "execution_count": 77,
   "metadata": {},
   "outputs": [],
   "source": [
    "def bond_check(distance,minimum=0,maximum=1.5):\n",
    "    \"\"\"\n",
    "    \n",
    "    Checks a distance to see if it's a bond. User specifies minimum and maximum values. \n",
    "    \n",
    "    \"\"\"\n",
    "    if distance>minimum and distance_12<maximum:\n",
    "        return True\n",
    "    else:\n",
    "        return False"
   ]
  },
  {
   "cell_type": "code",
   "execution_count": 78,
   "metadata": {
    "collapsed": true
   },
   "outputs": [
    {
     "ename": "NameError",
     "evalue": "name 'coordinates2' is not defined",
     "output_type": "error",
     "traceback": [
      "\u001b[1;31m---------------------------------------------------------------------------\u001b[0m",
      "\u001b[1;31mNameError\u001b[0m                                 Traceback (most recent call last)",
      "\u001b[1;32m<ipython-input-78-a3485634c87b>\u001b[0m in \u001b[0;36m<module>\u001b[1;34m()\u001b[0m\n\u001b[0;32m      2\u001b[0m     \u001b[1;32mfor\u001b[0m \u001b[0mnum2\u001b[0m \u001b[1;32min\u001b[0m \u001b[0mrange\u001b[0m\u001b[1;33m(\u001b[0m\u001b[1;36m0\u001b[0m\u001b[1;33m,\u001b[0m \u001b[0mnum_atoms\u001b[0m\u001b[1;33m)\u001b[0m\u001b[1;33m:\u001b[0m\u001b[1;33m\u001b[0m\u001b[0m\n\u001b[0;32m      3\u001b[0m         \u001b[1;32mif\u001b[0m \u001b[0mnum1\u001b[0m\u001b[1;33m>\u001b[0m\u001b[0mnum2\u001b[0m\u001b[1;33m:\u001b[0m\u001b[1;33m\u001b[0m\u001b[0m\n\u001b[1;32m----> 4\u001b[1;33m             \u001b[0mdistance_12\u001b[0m \u001b[1;33m=\u001b[0m \u001b[0mcalculate_distance\u001b[0m\u001b[1;33m(\u001b[0m\u001b[0mcoordinates\u001b[0m\u001b[1;33m[\u001b[0m\u001b[0mnum1\u001b[0m\u001b[1;33m]\u001b[0m\u001b[1;33m,\u001b[0m \u001b[0mcoordinates\u001b[0m\u001b[1;33m[\u001b[0m\u001b[0mnum2\u001b[0m\u001b[1;33m]\u001b[0m\u001b[1;33m)\u001b[0m\u001b[1;33m\u001b[0m\u001b[0m\n\u001b[0m\u001b[0;32m      5\u001b[0m             \u001b[1;31m#x_distance = coordinates[num1,0] - coordinates[num2,0]\u001b[0m\u001b[1;33m\u001b[0m\u001b[1;33m\u001b[0m\u001b[0m\n\u001b[0;32m      6\u001b[0m             \u001b[1;31m#y_distance = coordinates[num1,1] - coordinates[num2,1]\u001b[0m\u001b[1;33m\u001b[0m\u001b[1;33m\u001b[0m\u001b[0m\n",
      "\u001b[1;32m<ipython-input-70-6c3ef3196660>\u001b[0m in \u001b[0;36mcalculate_distance\u001b[1;34m(coords1, coords2)\u001b[0m\n\u001b[0;32m      7\u001b[0m \u001b[1;33m\u001b[0m\u001b[0m\n\u001b[0;32m      8\u001b[0m     \"\"\"\n\u001b[1;32m----> 9\u001b[1;33m     \u001b[0mx_distance\u001b[0m \u001b[1;33m=\u001b[0m \u001b[0mcoordinates\u001b[0m\u001b[1;33m[\u001b[0m\u001b[1;36m0\u001b[0m\u001b[1;33m]\u001b[0m \u001b[1;33m-\u001b[0m \u001b[0mcoordinates2\u001b[0m\u001b[1;33m[\u001b[0m\u001b[1;36m0\u001b[0m\u001b[1;33m]\u001b[0m\u001b[1;33m\u001b[0m\u001b[0m\n\u001b[0m\u001b[0;32m     10\u001b[0m     \u001b[0my_distance\u001b[0m \u001b[1;33m=\u001b[0m \u001b[0mcoordinates\u001b[0m\u001b[1;33m[\u001b[0m\u001b[1;36m1\u001b[0m\u001b[1;33m]\u001b[0m \u001b[1;33m-\u001b[0m \u001b[0mcoordinates2\u001b[0m\u001b[1;33m[\u001b[0m\u001b[1;36m1\u001b[0m\u001b[1;33m]\u001b[0m\u001b[1;33m\u001b[0m\u001b[0m\n\u001b[0;32m     11\u001b[0m     \u001b[0mz_distance\u001b[0m \u001b[1;33m=\u001b[0m \u001b[0mcoordinates\u001b[0m\u001b[1;33m[\u001b[0m\u001b[1;36m2\u001b[0m\u001b[1;33m]\u001b[0m \u001b[1;33m-\u001b[0m \u001b[0mcoordinates2\u001b[0m\u001b[1;33m[\u001b[0m\u001b[1;36m2\u001b[0m\u001b[1;33m]\u001b[0m\u001b[1;33m\u001b[0m\u001b[0m\n",
      "\u001b[1;31mNameError\u001b[0m: name 'coordinates2' is not defined"
     ]
    }
   ],
   "source": [
    "for num1 in range(0,num_atoms):\n",
    "    for num2 in range(0, num_atoms):\n",
    "        if num1>num2:\n",
    "            distance_12 = calculate_distance(coordinates[num1], coordinates[num2])\n",
    "            #x_distance = coordinates[num1,0] - coordinates[num2,0]\n",
    "            #y_distance = coordinates[num1,1] - coordinates[num2,1]\n",
    "            #z_distance = coordinates[num1,2] - coordinates[num2,2]\n",
    "            #distance_12 = numpy.sqrt(x_distance ** 2 + y_distance ** 2 + z_distance ** 2)\n",
    "            if bond_check(distance_12,0,1.5) is True:\n",
    "                print(F'{symbols[num1]} to {symbols[num2]} : {distance_12:.3f}')  "
   ]
  },
  {
   "cell_type": "code",
   "execution_count": 75,
   "metadata": {},
   "outputs": [
    {
     "name": "stdout",
     "output_type": "stream",
     "text": [
      "Help on function calculate_distance in module __main__:\n",
      "\n",
      "calculate_distance(coords1, coords2)\n",
      "    This function is something because you didn't make it in time.\n",
      "    This function has two arguments, the coordinates of two atoms. \n",
      "    It returns the distance between the atoms.\n",
      "\n"
     ]
    }
   ],
   "source": [
    "help(calculate_distance)                                       "
   ]
  },
  {
   "cell_type": "code",
   "execution_count": null,
   "metadata": {},
   "outputs": [],
   "source": []
  },
  {
   "cell_type": "code",
   "execution_count": null,
   "metadata": {},
   "outputs": [],
   "source": []
  }
 ],
 "metadata": {
  "kernelspec": {
   "display_name": "Python 3",
   "language": "python",
   "name": "python3"
  },
  "language_info": {
   "codemirror_mode": {
    "name": "ipython",
    "version": 3
   },
   "file_extension": ".py",
   "mimetype": "text/x-python",
   "name": "python",
   "nbconvert_exporter": "python",
   "pygments_lexer": "ipython3",
   "version": "3.6.4"
  }
 },
 "nbformat": 4,
 "nbformat_minor": 2
}
